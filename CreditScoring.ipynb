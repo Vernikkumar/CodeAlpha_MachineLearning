{
  "nbformat": 4,
  "nbformat_minor": 0,
  "metadata": {
    "colab": {
      "provenance": [],
      "authorship_tag": "ABX9TyPmb4s9rEme0wv455hPpvPn",
      "include_colab_link": true
    },
    "kernelspec": {
      "name": "python3",
      "display_name": "Python 3"
    },
    "language_info": {
      "name": "python"
    }
  },
  "cells": [
    {
      "cell_type": "markdown",
      "metadata": {
        "id": "view-in-github",
        "colab_type": "text"
      },
      "source": [
        "<a href=\"https://colab.research.google.com/github/Vernikkumar/CodeAlpha_MachineLearning/blob/main/CreditScoring.ipynb\" target=\"_parent\"><img src=\"https://colab.research.google.com/assets/colab-badge.svg\" alt=\"Open In Colab\"/></a>"
      ]
    },
    {
      "cell_type": "code",
      "execution_count": 1,
      "metadata": {
        "colab": {
          "base_uri": "https://localhost:8080/"
        },
        "id": "QdSk7eZGkTLC",
        "outputId": "b2afa43a-da7e-467a-d87e-21e5a048cc82"
      },
      "outputs": [
        {
          "output_type": "stream",
          "name": "stdout",
          "text": [
            "Sample Data:\n",
            "   income  debts  payment_history  age  Creditworthy\n",
            "0    9270   1895                0   63             0\n",
            "1    9603   2733                0   40             1\n",
            "2    2860   3863                0   49             1\n",
            "3    7390   4721                0   34             0\n",
            "4    7226   4014                0   34             1\n",
            "\n",
            "Logistic Regression:\n",
            "Accuracy:  0.53\n",
            "Precision: 0.57\n",
            "Recall:    0.54\n",
            "F1-Score:  0.55\n",
            "ROC-AUC:   0.53\n",
            "\n",
            "Decision Tree:\n",
            "Accuracy:  0.42\n",
            "Precision: 0.46\n",
            "Recall:    0.43\n",
            "F1-Score:  0.44\n",
            "ROC-AUC:   0.42\n",
            "\n",
            "Random Forest:\n",
            "Accuracy:  0.52\n",
            "Precision: 0.55\n",
            "Recall:    0.59\n",
            "F1-Score:  0.57\n",
            "ROC-AUC:   0.51\n"
          ]
        }
      ],
      "source": [
        "# Credit Scoring Model - Simple Version\n",
        "# Author: Your Name\n",
        "\n",
        "import pandas as pd\n",
        "import numpy as np\n",
        "from sklearn.model_selection import train_test_split\n",
        "from sklearn.preprocessing import StandardScaler\n",
        "from sklearn.linear_model import LogisticRegression\n",
        "from sklearn.tree import DecisionTreeClassifier\n",
        "from sklearn.ensemble import RandomForestClassifier\n",
        "from sklearn.metrics import accuracy_score, precision_score, recall_score, f1_score, roc_auc_score\n",
        "\n",
        "# -----------------------------\n",
        "# Step 1: Create Sample Dataset\n",
        "# -----------------------------\n",
        "# (In real projects, load from CSV instead)\n",
        "np.random.seed(42)\n",
        "n = 500  # number of samples\n",
        "\n",
        "data = pd.DataFrame({\n",
        "    \"income\": np.random.randint(2000, 10000, n),\n",
        "    \"debts\": np.random.randint(0, 5000, n),\n",
        "    \"payment_history\": np.random.randint(0, 2, n),  # 0 = bad, 1 = good\n",
        "    \"age\": np.random.randint(18, 65, n),\n",
        "    \"Creditworthy\": np.random.randint(0, 2, n)      # Target (0 = No, 1 = Yes)\n",
        "})\n",
        "\n",
        "print(\"Sample Data:\")\n",
        "print(data.head())\n",
        "\n",
        "# -----------------------------\n",
        "# Step 2: Features and Target\n",
        "# -----------------------------\n",
        "X = data.drop(\"Creditworthy\", axis=1)\n",
        "y = data[\"Creditworthy\"]\n",
        "\n",
        "# Train-test split\n",
        "X_train, X_test, y_train, y_test = train_test_split(X, y, test_size=0.2, random_state=42)\n",
        "\n",
        "# Scale features (important for Logistic Regression)\n",
        "scaler = StandardScaler()\n",
        "X_train = scaler.fit_transform(X_train)\n",
        "X_test = scaler.transform(X_test)\n",
        "\n",
        "# -----------------------------\n",
        "# Step 3: Train Models\n",
        "# -----------------------------\n",
        "models = {\n",
        "    \"Logistic Regression\": LogisticRegression(),\n",
        "    \"Decision Tree\": DecisionTreeClassifier(),\n",
        "    \"Random Forest\": RandomForestClassifier()\n",
        "}\n",
        "\n",
        "# -----------------------------\n",
        "# Step 4: Evaluate Models\n",
        "# -----------------------------\n",
        "for name, model in models.items():\n",
        "    model.fit(X_train, y_train)\n",
        "    y_pred = model.predict(X_test)\n",
        "\n",
        "    acc = accuracy_score(y_test, y_pred)\n",
        "    prec = precision_score(y_test, y_pred)\n",
        "    rec = recall_score(y_test, y_pred)\n",
        "    f1 = f1_score(y_test, y_pred)\n",
        "    roc = roc_auc_score(y_test, y_pred)\n",
        "\n",
        "    print(f\"\\n{name}:\")\n",
        "    print(f\"Accuracy:  {acc:.2f}\")\n",
        "    print(f\"Precision: {prec:.2f}\")\n",
        "    print(f\"Recall:    {rec:.2f}\")\n",
        "    print(f\"F1-Score:  {f1:.2f}\")\n",
        "    print(f\"ROC-AUC:   {roc:.2f}\")\n"
      ]
    }
  ]
}